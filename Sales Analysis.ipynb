{
 "cells": [
  {
   "cell_type": "markdown",
   "id": "525d15f1",
   "metadata": {},
   "source": [
    "## Sales Data Analysis"
   ]
  },
  {
   "cell_type": "markdown",
   "id": "211c71be",
   "metadata": {},
   "source": [
    "We have downloaded a sample sales dataset from <a href='https://www.kaggle.com/datasets/beekiran/sales-data-analysis'>Kaggle.com</a> in order to make a demo analysis with Python. First, we download the file to our computer and upload it to the jupyter notebook.\n",
    "In addition, we import the required python library to conduct the analysis."
   ]
  },
  {
   "cell_type": "code",
   "execution_count": 1,
   "id": "a454222b",
   "metadata": {},
   "outputs": [],
   "source": [
    "import pandas as pd"
   ]
  },
  {
   "cell_type": "markdown",
   "id": "73a3f883",
   "metadata": {},
   "source": [
    "We will have an overview of our data, to see what we are dealing with"
   ]
  },
  {
   "cell_type": "code",
   "execution_count": 2,
   "id": "0524630e",
   "metadata": {},
   "outputs": [],
   "source": [
    "sales = pd.read_csv('Sales Data.csv')"
   ]
  },
  {
   "cell_type": "code",
   "execution_count": 3,
   "id": "455cf5ef",
   "metadata": {},
   "outputs": [
    {
     "data": {
      "text/html": [
       "<div>\n",
       "<style scoped>\n",
       "    .dataframe tbody tr th:only-of-type {\n",
       "        vertical-align: middle;\n",
       "    }\n",
       "\n",
       "    .dataframe tbody tr th {\n",
       "        vertical-align: top;\n",
       "    }\n",
       "\n",
       "    .dataframe thead th {\n",
       "        text-align: right;\n",
       "    }\n",
       "</style>\n",
       "<table border=\"1\" class=\"dataframe\">\n",
       "  <thead>\n",
       "    <tr style=\"text-align: right;\">\n",
       "      <th></th>\n",
       "      <th>Unnamed: 0</th>\n",
       "      <th>Order ID</th>\n",
       "      <th>Product</th>\n",
       "      <th>Quantity Ordered</th>\n",
       "      <th>Price Each</th>\n",
       "      <th>Order Date</th>\n",
       "      <th>Purchase Address</th>\n",
       "      <th>Month</th>\n",
       "      <th>Sales</th>\n",
       "      <th>City</th>\n",
       "      <th>Hour</th>\n",
       "    </tr>\n",
       "  </thead>\n",
       "  <tbody>\n",
       "    <tr>\n",
       "      <th>0</th>\n",
       "      <td>0</td>\n",
       "      <td>295665</td>\n",
       "      <td>Macbook Pro Laptop</td>\n",
       "      <td>1</td>\n",
       "      <td>1700.00</td>\n",
       "      <td>2019-12-30 00:01:00</td>\n",
       "      <td>136 Church St, New York City, NY 10001</td>\n",
       "      <td>12</td>\n",
       "      <td>1700.00</td>\n",
       "      <td>New York City</td>\n",
       "      <td>0</td>\n",
       "    </tr>\n",
       "    <tr>\n",
       "      <th>1</th>\n",
       "      <td>1</td>\n",
       "      <td>295666</td>\n",
       "      <td>LG Washing Machine</td>\n",
       "      <td>1</td>\n",
       "      <td>600.00</td>\n",
       "      <td>2019-12-29 07:03:00</td>\n",
       "      <td>562 2nd St, New York City, NY 10001</td>\n",
       "      <td>12</td>\n",
       "      <td>600.00</td>\n",
       "      <td>New York City</td>\n",
       "      <td>7</td>\n",
       "    </tr>\n",
       "    <tr>\n",
       "      <th>2</th>\n",
       "      <td>2</td>\n",
       "      <td>295667</td>\n",
       "      <td>USB-C Charging Cable</td>\n",
       "      <td>1</td>\n",
       "      <td>11.95</td>\n",
       "      <td>2019-12-12 18:21:00</td>\n",
       "      <td>277 Main St, New York City, NY 10001</td>\n",
       "      <td>12</td>\n",
       "      <td>11.95</td>\n",
       "      <td>New York City</td>\n",
       "      <td>18</td>\n",
       "    </tr>\n",
       "    <tr>\n",
       "      <th>3</th>\n",
       "      <td>3</td>\n",
       "      <td>295668</td>\n",
       "      <td>27in FHD Monitor</td>\n",
       "      <td>1</td>\n",
       "      <td>149.99</td>\n",
       "      <td>2019-12-22 15:13:00</td>\n",
       "      <td>410 6th St, San Francisco, CA 94016</td>\n",
       "      <td>12</td>\n",
       "      <td>149.99</td>\n",
       "      <td>San Francisco</td>\n",
       "      <td>15</td>\n",
       "    </tr>\n",
       "    <tr>\n",
       "      <th>4</th>\n",
       "      <td>4</td>\n",
       "      <td>295669</td>\n",
       "      <td>USB-C Charging Cable</td>\n",
       "      <td>1</td>\n",
       "      <td>11.95</td>\n",
       "      <td>2019-12-18 12:38:00</td>\n",
       "      <td>43 Hill St, Atlanta, GA 30301</td>\n",
       "      <td>12</td>\n",
       "      <td>11.95</td>\n",
       "      <td>Atlanta</td>\n",
       "      <td>12</td>\n",
       "    </tr>\n",
       "  </tbody>\n",
       "</table>\n",
       "</div>"
      ],
      "text/plain": [
       "   Unnamed: 0  Order ID               Product  Quantity Ordered  Price Each  \\\n",
       "0           0    295665    Macbook Pro Laptop                 1     1700.00   \n",
       "1           1    295666    LG Washing Machine                 1      600.00   \n",
       "2           2    295667  USB-C Charging Cable                 1       11.95   \n",
       "3           3    295668      27in FHD Monitor                 1      149.99   \n",
       "4           4    295669  USB-C Charging Cable                 1       11.95   \n",
       "\n",
       "            Order Date                        Purchase Address  Month  \\\n",
       "0  2019-12-30 00:01:00  136 Church St, New York City, NY 10001     12   \n",
       "1  2019-12-29 07:03:00     562 2nd St, New York City, NY 10001     12   \n",
       "2  2019-12-12 18:21:00    277 Main St, New York City, NY 10001     12   \n",
       "3  2019-12-22 15:13:00     410 6th St, San Francisco, CA 94016     12   \n",
       "4  2019-12-18 12:38:00           43 Hill St, Atlanta, GA 30301     12   \n",
       "\n",
       "     Sales            City  Hour  \n",
       "0  1700.00   New York City     0  \n",
       "1   600.00   New York City     7  \n",
       "2    11.95   New York City    18  \n",
       "3   149.99   San Francisco    15  \n",
       "4    11.95         Atlanta    12  "
      ]
     },
     "execution_count": 3,
     "metadata": {},
     "output_type": "execute_result"
    }
   ],
   "source": [
    "sales.head()"
   ]
  },
  {
   "cell_type": "code",
   "execution_count": 4,
   "id": "8f7619ec",
   "metadata": {},
   "outputs": [
    {
     "data": {
      "text/plain": [
       "Index(['Unnamed: 0', 'Order ID', 'Product', 'Quantity Ordered', 'Price Each',\n",
       "       'Order Date', 'Purchase Address', 'Month', 'Sales', 'City', 'Hour'],\n",
       "      dtype='object')"
      ]
     },
     "execution_count": 4,
     "metadata": {},
     "output_type": "execute_result"
    }
   ],
   "source": [
    "sales.columns"
   ]
  },
  {
   "cell_type": "code",
   "execution_count": 5,
   "id": "89dda37b",
   "metadata": {
    "scrolled": false
   },
   "outputs": [
    {
     "name": "stdout",
     "output_type": "stream",
     "text": [
      "(185950, 11)\n"
     ]
    }
   ],
   "source": [
    "print (sales.shape)"
   ]
  },
  {
   "cell_type": "markdown",
   "id": "82c24f6f",
   "metadata": {},
   "source": [
    "In the first table, we can see only the first 5 rows.\n",
    "We can see that the dataset consists of 11 rows and 185950 rows. That's a good start.\n",
    "We want to make sure that the column \"Order Date\" is of datetime in order to proceed to our calculations"
   ]
  },
  {
   "cell_type": "code",
   "execution_count": 6,
   "id": "03915d98",
   "metadata": {},
   "outputs": [],
   "source": [
    "sales[\"Order Date\"] = pd.to_datetime(sales[\"Order Date\"])"
   ]
  },
  {
   "cell_type": "markdown",
   "id": "4743df7f",
   "metadata": {},
   "source": [
    "Let's check what type of columns does the dataset consist of"
   ]
  },
  {
   "cell_type": "code",
   "execution_count": 7,
   "id": "d3add1fa",
   "metadata": {},
   "outputs": [
    {
     "data": {
      "text/plain": [
       "Unnamed: 0                   int64\n",
       "Order ID                     int64\n",
       "Product                     object\n",
       "Quantity Ordered             int64\n",
       "Price Each                 float64\n",
       "Order Date          datetime64[ns]\n",
       "Purchase Address            object\n",
       "Month                        int64\n",
       "Sales                      float64\n",
       "City                        object\n",
       "Hour                         int64\n",
       "dtype: object"
      ]
     },
     "execution_count": 7,
     "metadata": {},
     "output_type": "execute_result"
    }
   ],
   "source": [
    "sales.dtypes"
   ]
  },
  {
   "cell_type": "markdown",
   "id": "a76e6b5d",
   "metadata": {},
   "source": [
    "We want to group by City, Product and year, in order to see the top sales per city and year and present them in a form of table.\n",
    "We will create a new column 'year'"
   ]
  },
  {
   "cell_type": "code",
   "execution_count": 8,
   "id": "0581f0f9",
   "metadata": {},
   "outputs": [],
   "source": [
    "sales['year'] = sales['Order Date'].dt.year"
   ]
  },
  {
   "cell_type": "code",
   "execution_count": 9,
   "id": "8ae4d0b3",
   "metadata": {},
   "outputs": [],
   "source": [
    "year = sales['Order Date'].dt.year"
   ]
  },
  {
   "cell_type": "code",
   "execution_count": 10,
   "id": "476d1002",
   "metadata": {},
   "outputs": [
    {
     "data": {
      "text/html": [
       "<div>\n",
       "<style scoped>\n",
       "    .dataframe tbody tr th:only-of-type {\n",
       "        vertical-align: middle;\n",
       "    }\n",
       "\n",
       "    .dataframe tbody tr th {\n",
       "        vertical-align: top;\n",
       "    }\n",
       "\n",
       "    .dataframe thead th {\n",
       "        text-align: right;\n",
       "    }\n",
       "</style>\n",
       "<table border=\"1\" class=\"dataframe\">\n",
       "  <thead>\n",
       "    <tr style=\"text-align: right;\">\n",
       "      <th></th>\n",
       "      <th>year</th>\n",
       "      <th>City</th>\n",
       "      <th>Product</th>\n",
       "      <th>Quantity Ordered</th>\n",
       "    </tr>\n",
       "  </thead>\n",
       "  <tbody>\n",
       "    <tr>\n",
       "      <th>0</th>\n",
       "      <td>2019</td>\n",
       "      <td>Atlanta</td>\n",
       "      <td>20in Monitor</td>\n",
       "      <td>342</td>\n",
       "    </tr>\n",
       "    <tr>\n",
       "      <th>1</th>\n",
       "      <td>2019</td>\n",
       "      <td>Atlanta</td>\n",
       "      <td>27in 4K Gaming Monitor</td>\n",
       "      <td>493</td>\n",
       "    </tr>\n",
       "    <tr>\n",
       "      <th>2</th>\n",
       "      <td>2019</td>\n",
       "      <td>Atlanta</td>\n",
       "      <td>27in FHD Monitor</td>\n",
       "      <td>588</td>\n",
       "    </tr>\n",
       "    <tr>\n",
       "      <th>3</th>\n",
       "      <td>2019</td>\n",
       "      <td>Atlanta</td>\n",
       "      <td>34in Ultrawide Monitor</td>\n",
       "      <td>482</td>\n",
       "    </tr>\n",
       "    <tr>\n",
       "      <th>4</th>\n",
       "      <td>2019</td>\n",
       "      <td>Atlanta</td>\n",
       "      <td>AA Batteries (4-pack)</td>\n",
       "      <td>2193</td>\n",
       "    </tr>\n",
       "    <tr>\n",
       "      <th>...</th>\n",
       "      <td>...</td>\n",
       "      <td>...</td>\n",
       "      <td>...</td>\n",
       "      <td>...</td>\n",
       "    </tr>\n",
       "    <tr>\n",
       "      <th>193</th>\n",
       "      <td>2020</td>\n",
       "      <td>San Francisco</td>\n",
       "      <td>Bose SoundSport Headphones</td>\n",
       "      <td>2</td>\n",
       "    </tr>\n",
       "    <tr>\n",
       "      <th>194</th>\n",
       "      <td>2020</td>\n",
       "      <td>San Francisco</td>\n",
       "      <td>Google Phone</td>\n",
       "      <td>1</td>\n",
       "    </tr>\n",
       "    <tr>\n",
       "      <th>195</th>\n",
       "      <td>2020</td>\n",
       "      <td>San Francisco</td>\n",
       "      <td>USB-C Charging Cable</td>\n",
       "      <td>1</td>\n",
       "    </tr>\n",
       "    <tr>\n",
       "      <th>196</th>\n",
       "      <td>2020</td>\n",
       "      <td>San Francisco</td>\n",
       "      <td>iPhone</td>\n",
       "      <td>1</td>\n",
       "    </tr>\n",
       "    <tr>\n",
       "      <th>197</th>\n",
       "      <td>2020</td>\n",
       "      <td>Seattle</td>\n",
       "      <td>27in FHD Monitor</td>\n",
       "      <td>1</td>\n",
       "    </tr>\n",
       "  </tbody>\n",
       "</table>\n",
       "<p>198 rows × 4 columns</p>\n",
       "</div>"
      ],
      "text/plain": [
       "     year            City                     Product  Quantity Ordered\n",
       "0    2019         Atlanta                20in Monitor               342\n",
       "1    2019         Atlanta      27in 4K Gaming Monitor               493\n",
       "2    2019         Atlanta            27in FHD Monitor               588\n",
       "3    2019         Atlanta      34in Ultrawide Monitor               482\n",
       "4    2019         Atlanta       AA Batteries (4-pack)              2193\n",
       "..    ...             ...                         ...               ...\n",
       "193  2020   San Francisco  Bose SoundSport Headphones                 2\n",
       "194  2020   San Francisco                Google Phone                 1\n",
       "195  2020   San Francisco        USB-C Charging Cable                 1\n",
       "196  2020   San Francisco                      iPhone                 1\n",
       "197  2020         Seattle            27in FHD Monitor                 1\n",
       "\n",
       "[198 rows x 4 columns]"
      ]
     },
     "execution_count": 10,
     "metadata": {},
     "output_type": "execute_result"
    }
   ],
   "source": [
    "sales.groupby(['year','City','Product'], as_index=False)['Quantity Ordered'].sum()"
   ]
  },
  {
   "cell_type": "markdown",
   "id": "2c546607",
   "metadata": {},
   "source": [
    "There they are. Now let's see in the dataset, what are all the products that we are dealing with.."
   ]
  },
  {
   "cell_type": "code",
   "execution_count": 11,
   "id": "943fd8cc",
   "metadata": {},
   "outputs": [
    {
     "name": "stdout",
     "output_type": "stream",
     "text": [
      "['Macbook Pro Laptop' 'LG Washing Machine' 'USB-C Charging Cable'\n",
      " '27in FHD Monitor' 'AA Batteries (4-pack)' 'Bose SoundSport Headphones'\n",
      " 'AAA Batteries (4-pack)' 'ThinkPad Laptop' 'Lightning Charging Cable'\n",
      " 'Google Phone' 'Wired Headphones' 'Apple Airpods Headphones'\n",
      " 'Vareebadd Phone' 'iPhone' '20in Monitor' '34in Ultrawide Monitor'\n",
      " 'Flatscreen TV' '27in 4K Gaming Monitor' 'LG Dryer']\n",
      "No of products: 19\n"
     ]
    }
   ],
   "source": [
    "print(sales.Product.unique())\n",
    "print(\"No of products:\",len(pd.unique(sales['Product'])))"
   ]
  }
 ],
 "metadata": {
  "kernelspec": {
   "display_name": "Python 3 (ipykernel)",
   "language": "python",
   "name": "python3"
  },
  "language_info": {
   "codemirror_mode": {
    "name": "ipython",
    "version": 3
   },
   "file_extension": ".py",
   "mimetype": "text/x-python",
   "name": "python",
   "nbconvert_exporter": "python",
   "pygments_lexer": "ipython3",
   "version": "3.9.12"
  }
 },
 "nbformat": 4,
 "nbformat_minor": 5
}
